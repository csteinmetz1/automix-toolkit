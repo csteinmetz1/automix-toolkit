{
 "cells": [
  {
   "cell_type": "code",
   "execution_count": 2,
   "id": "a7b2ce50",
   "metadata": {},
   "outputs": [],
   "source": [
    "import torch\n",
    "import pytorch_lightning as pl\n",
    "\n",
    "from automix.data import DSD100Dataset\n",
    "from automix.system import System"
   ]
  },
  {
   "cell_type": "code",
   "execution_count": null,
   "id": "19ee83d6",
   "metadata": {},
   "outputs": [],
   "source": [
    "torch.backends.cudnn.benchmark = True\n",
    "pl.seed_everything(42, workers=True)"
   ]
  },
  {
   "cell_type": "code",
   "execution_count": null,
   "id": "96de3fbb",
   "metadata": {},
   "outputs": [],
   "source": [
    "dataset_name = \"DSD100\"\n",
    "automix_model = \"dmc\" # Differentiable mixing console\n",
    "dataset_dir = \"/import/c4dm-datasets-ex/DSD100subset\"\n",
    "log_dir = \"./logs\""
   ]
  },
  {
   "cell_type": "code",
   "execution_count": null,
   "id": "ece37f55",
   "metadata": {},
   "outputs": [],
   "source": [
    "# setup callbacks\n",
    "callbacks = [\n",
    "    LogAudioCallback(),\n",
    "    pl.callbacks.LearningRateMonitor(logging_interval=\"step\"),\n",
    "    pl.callbacks.ModelCheckpoint(\n",
    "        filename=f\"{dataset_name}-{automix_model}\"\n",
    "        + \"_epoch-{epoch}-step-{step}\",\n",
    "        monitor=\"val/loss_epoch\",\n",
    "        mode=\"min\",\n",
    "        save_last=True,\n",
    "        auto_insert_metric_name=False,\n",
    "    ),\n",
    "]\n",
    "\n",
    "wandb_logger = WandbLogger(save_dir=log_dir, project=\"automix-notebook\")\n",
    "\n",
    "# create PyTorch Lightning trainer\n",
    "trainer = pl.Trainer.from_argparse_args(\n",
    "    args, logger=wandb_logger, callbacks=callbacks\n",
    ")\n",
    "\n",
    "# create the System\n",
    "system = System(**vars(args))"
   ]
  },
  {
   "cell_type": "code",
   "execution_count": null,
   "id": "4f008ad9",
   "metadata": {},
   "outputs": [],
   "source": [
    "train_dataset = DSD100Dataset(\n",
    "    dataset_dir,\n",
    "    args.train_length,\n",
    "    44100,\n",
    "    indices=[0, 80],\n",
    "    num_examples_per_epoch=1000,\n",
    ")\n",
    "val_dataset = DSD100Dataset(\n",
    "    dataset_dir,\n",
    "    args.train_length,\n",
    "    44100,\n",
    "    indices=[80, 90],\n",
    "    num_examples_per_epoch=100,\n",
    ")\n",
    "test_dataset = DSD100Dataset(\n",
    "    dataset_dir,\n",
    "    train_length,\n",
    "    44100,\n",
    "    indices=[90, 100],\n",
    "    num_examples_per_epoch=100,\n",
    ")"
   ]
  }
 ],
 "metadata": {
  "kernelspec": {
   "display_name": "Python 3.7.4 ('env': venv)",
   "language": "python",
   "name": "python3"
  },
  "language_info": {
   "codemirror_mode": {
    "name": "ipython",
    "version": 3
   },
   "file_extension": ".py",
   "mimetype": "text/x-python",
   "name": "python",
   "nbconvert_exporter": "python",
   "pygments_lexer": "ipython3",
   "version": "3.7.4"
  },
  "vscode": {
   "interpreter": {
    "hash": "a3fa5f622e0c4f19de725eca262006d4f26f3d54faeda6e10ceb975b2274f74b"
   }
  }
 },
 "nbformat": 4,
 "nbformat_minor": 5
}
