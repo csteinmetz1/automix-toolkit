{
 "cells": [
  {
   "cell_type": "markdown",
   "id": "3fa13a13",
   "metadata": {
    "id": "3fa13a13"
   },
   "source": [
    "# Datasets for automix systems\n",
    "\n",
    "In this notebook, we will first discuss the datasets used to train the automix systems. Thereafter, we will see how to pre-process the data and set up the dataloaders for training the deep learning models for these systems.\n",
    "\n",
    "Training automix models requires paired multitrack stems and their corresponding mixdowns. Below listed are the desired properties for these datasets:\n",
    "\n",
    "1. __Time alligned stems and mixes__ : We require time-alligned stems and mixes to allow the models to learn timewise transformation relationships.\n",
    "\n",
    "2. __Diverse instrument categories__ : The more diverse the number of instruments in the dataset, the more likely is the trained system to perform well with real-world songs.\n",
    "\n",
    "3. __Diverse genres of songs__ : The mixing practices vary slightly from one genre to another. Hence, if the dataset has multitrack mixes from different genres, the trained system will be exposed to more diverse distribution of data.\n",
    "\n",
    "4. __Dry multitrack stems__ : Mixing involves processing the recorded dry stems for corrective and aesthetic reasons before summing them to form a cohesive mixture. For a model to learn the correct way to process the stems to generate mixes, we need to train it on dry unprocessed stems and mix pairs. However, more recently approaches to use processed stems from datasets like MUSEDB to train automix systems have been explored. These approaches use a pre-processing effect normalisation method to deal with pre-processed wet stems. For the scope of this tutorial, we do not discuss these methods. However, we recommend having a look at [this](https://arxiv.org/abs/2208.11428) paper being presented at ISMIR 2022."
   ]
  },
  {
   "cell_type": "markdown",
   "id": "015c3596",
   "metadata": {
    "id": "015c3596"
   },
   "source": [
    "Here we list the datasets available for training automix systems. \n",
    "\n",
    "| Dataset | Size(Hrs) | no. of Songs | no. of Instrument Category | no. of tracks | Type | Usage Permissions | Other info | Remarks |\n",
    "| --- | --- | --- | --- | --- | --- | --- | --- | --- |\n",
    "| [MedleyDB](https://medleydb.weebly.com/) | 7.2 | 122 | 82 | 1-26 | Multitrack, Wav | Open | 44.1KHz, 16 bit, stereo | - |\n",
    "| [ENST Drums](https://perso.telecom-paristech.fr/grichard/ENST-drums/) | 1.25 | - | 1 | 8 | Drums, Wav/AVI | Limited | 44.1KHz, 16 bit, stereo | Drums only dataset |\n",
    "| [Cambridge Multitrack](https://www.cambridge-mt.com/ms/mtk/) | >3 | >50 | >5 | 5-70 | Multitrack, Wav | open | 44.1KHz, 16/24 bit, Stereo | Not time alligned, recordings for all the songs are not uniform |\n",
    "| [MUSEDB](https://sigsep.github.io/datasets/musdb.html) | ~10 | 150 | 4 | 4 | Multitrack, Wav | open | 44.1KHz, Stereo | used mainly for source separation, wet stems |\n",
    "| [Slakh](http://www.slakh.com/) | 145 | 2100 | 34 | 4-48 | Synthesised, Flac,  | open | 44.1KHz, 16 bit, stereo | used mainly for source separation; sometimes wet stems |\n",
    "| [Shaking Through](https://weathervanemusic.org/shakingthrough/episode-index) | 4.5 | 68 | >30 | >40 | Multitrack, Wav | User only | 44.1/88.2KHz, 16/24 bit, stereo | - |\n",
    "| [BitMIDI](https://bitmidi.com/) | - | >1M | >5 | >5 | Multitrack MIDI | open | MIDI data | MIDI data submitted by users across world |\n"
   ]
  },
  {
   "cell_type": "markdown",
   "id": "105690f8",
   "metadata": {
    "id": "105690f8"
   },
   "source": [
    "For this tutorial, we will use ENST-drums for training Wave-U-Net and ENST-drums, DSD100, and MedleyDB for training Differentiable Mixing Console(DMC).\n",
    "\n",
    "In the following section, we will discuss the recommended pre-processing methods for these datasets and the methods to set up dataloaders for training the models. This notebook assumes that you have already installed the `automix` package.\n"
   ]
  },
  {
   "cell_type": "markdown",
   "id": "e9eab3d3",
   "metadata": {
    "id": "e9eab3d3"
   },
   "source": [
    "We define dataset classes for DSD100, MedleyDB, and ENSTdrums, and then use `getitem()` function to load the audio data into the dataloader for training and testing. \n",
    "\n",
    "### Listed below are few of the advised variables that you should define in the dataset class definition:\n",
    "\n",
    "1. __Root directory__ of the folder containing the dataset. \n",
    "2. __Length of the audio__ you wish to load for training/testing.\n",
    "3. __Sample rate__ at which you wish to load the audio data.\n",
    "\n",
    "### Pre-processing advice for loading multitrack data:\n",
    "\n",
    "1. Discard the examples from the dataset that have length shorter than the prescribed length.\n",
    "\n",
    "        ```\n",
    "        #code from automix/data/drums.py\n",
    "        #remove any mixes that are shorter than the requested length\n",
    "        self.mix_filepaths = [\n",
    "            fp\n",
    "            for fp in self.mix_filepaths\n",
    "            \n",
    "            # use torchaudio.info to get information about the audio. This is much faster than loading the whole audio.\n",
    "            if torchaudio.info(fp).num_frames > self.length\n",
    "        ]\n",
    "        ```\n",
    "\n",
    "2. Loudness normalise the stems and the mixes after loading. \n",
    "\n",
    "        ```\n",
    "        #code from automix/data/drums.py\n",
    "        y /= y.abs().max().clamp(1e-8) \n",
    "        ```\n",
    "\n",
    "3. Look out for silence in the loaded audio: Common practice is to generate a random starting index for the frame from which the audio is loaded. However, it is likely that some of the multitrack stem or the mix as a whole could have just silence in this chunk of loaded audio. This results in generation of NaN in the audio tensor when it is normalised. In the below shown code block, we show how to check for silence. We keep generating a new starting index(`offset`)) for loading the audio until the audio has some content and is not just silence(`silent is False`).\n",
    "\n",
    "                ```\n",
    "                #code from automix/data/drums.py\n",
    "                # load the chunk of the mix\n",
    "                        silent = True\n",
    "                        while silent:\n",
    "                        # get random offset\n",
    "                        offset = np.random.randint(0, md.num_frames - self.length - 1)\n",
    "\n",
    "                        y, sr = torchaudio.load(\n",
    "                                mix_filepath,\n",
    "                                frame_offset=offset,\n",
    "                                num_frames=self.length,\n",
    "                        )\n",
    "                        energy = (y**2).mean()\n",
    "                        if energy > 1e-8:\n",
    "                                silent = False\n",
    "\n",
    "                        # only normalise the audio that are not silent\n",
    "                        y /= y.abs().max().clamp(1e-8)  # peak normalize\n",
    "                ```\n"
   ]
  },
  {
   "cell_type": "markdown",
   "id": "ec29c832",
   "metadata": {
    "id": "ec29c832"
   },
   "source": [
    "## ENST Drums\n",
    "\n",
    "Below described is the folder structure of the ENST Drums dataset:\n",
    "\n",
    "- ENST-Drums\n",
    "    - drummer_1\n",
    "        - annotation\n",
    "        - audio\n",
    "            - accompaniment\n",
    "            - dry mix\n",
    "            - hi-hat\n",
    "            - kick\n",
    "            - overhead L\n",
    "            - overhead R\n",
    "            - snare\n",
    "            - tom 1\n",
    "            - tom 2\n",
    "            - wet mix\n",
    "    - drummer_2\n",
    "        - (same structure as drummer_1)\n",
    "    - drummer_3\n",
    "        - (same structure as drummer_1)\n",
    "\n",
    "We are going to use audios from the wet mix folder for this tutorial. \n",
    "\n"
   ]
  },
  {
   "cell_type": "markdown",
   "id": "cfbf9585",
   "metadata": {
    "id": "cfbf9585"
   },
   "source": [
    "In the automix/data/drums, we define an ENSTDrumsdataset class and use the `getitem()` to load data for the dataloader in our training loop.\n",
    "```\n",
    "class ENSTDrumsDataset(torch.utils.data.Dataset):\n",
    "    def __init__(\n",
    "        self,\n",
    "        root_dir: str,\n",
    "        length: int,\n",
    "        sample_rate: float,\n",
    "        drummers: List[int] = [1, 2],\n",
    "        track_names: List[str] = [\n",
    "            \"kick\",\n",
    "            \"snare\",\n",
    "            \"hi-hat\",\n",
    "            \"overhead_L\",\n",
    "            \"overhead_R\",\n",
    "            \"tom_1\",\n",
    "            \"tom_2\",\n",
    "            \"tom_3\",\n",
    "        ],\n",
    "        indices: Tuple[int, int] = [0, 1],\n",
    "        wet_mix: bool = False,\n",
    "        hits: bool = False,\n",
    "        num_examples_per_epoch: int = 1000,\n",
    "        seed: int = 42,\n",
    "    ) -> None:\n",
    "```\n",
    "- We use indices to define the train-test split."
   ]
  },
  {
   "cell_type": "markdown",
   "id": "dbaf01a0",
   "metadata": {
    "id": "dbaf01a0"
   },
   "source": [
    "- In the `getitem()` of the dataset class, we first generate a `mix_idx` which is a random number in the range of 0 and the number of songs in the directory(len of mix_filepaths). This allows to randomly pick a mix/song from the mix_filepath.\n",
    "    ```\n",
    "    def __getitem__(self, _):\n",
    "            # select a mix at random\n",
    "            mix_idx = np.random.randint(0, len(self.mix_filepaths))\n",
    "            mix_filepath = self.mix_filepaths[mix_idx]\n",
    "            example_id = os.path.basename(mix_filepath)\n",
    "            drummer_id = os.path.normpath(mix_filepath).split(os.path.sep)[-4]\n",
    "\n",
    "            md = torchaudio.info(mix_filepath)  # check length\n",
    "    ```\n",
    "- Next, we load the mix(`y`) from the filepath. Make sure to check for silence as discussed above. Once the mix is loaded, peak normalise it. \n",
    "    ```\n",
    "            # load the chunk of the mix\n",
    "            silent = True\n",
    "            while silent:\n",
    "                # get random offset\n",
    "                offset = np.random.randint(0, md.num_frames - self.length - 1)\n",
    "\n",
    "                y, sr = torchaudio.load(\n",
    "                    mix_filepath,\n",
    "                    frame_offset=offset,\n",
    "                    num_frames=self.length,\n",
    "                )\n",
    "                energy = (y**2).mean()\n",
    "                if energy > 1e-8:\n",
    "                    silent = False\n",
    "\n",
    "            y /= y.abs().max().clamp(1e-8)  # peak normalize\n",
    "    ```\n",
    "- Last step is to load the stems. `max_num_tracks` is the maximum number of tracks you want to load. Some songs might have less or more stems than this number. We keep a track of empty stems using `pad` which is `True` whenever the stem is empty. \n",
    "The `getitem()` returns stems tensor (`x`), mix (`y`), and `pad` information.\n",
    "\n",
    "        # -------------------- load the tracks from disk --------------------\n",
    "        x = torch.zeros((self.max_num_tracks, self.length))\n",
    "        pad = [True] * self.max_num_tracks  # note which tracks are empty\n",
    "\n",
    "        for tidx, track_name in enumerate(self.track_names):\n",
    "            track_filepath = os.path.join(\n",
    "                self.root_dir,\n",
    "                drummer_id,\n",
    "                \"audio\",\n",
    "                track_name,\n",
    "                example_id,\n",
    "            )\n",
    "            if os.path.isfile(track_filepath):\n",
    "                x_s, sr = torchaudio.load(\n",
    "                    track_filepath,\n",
    "                    frame_offset=offset,\n",
    "                    num_frames=self.length,\n",
    "                )\n",
    "                x_s /= x_s.abs().max().clamp(1e-6)\n",
    "                x_s *= 10 ** (-12 / 20.0)\n",
    "                x[tidx, :] = x_s\n",
    "                pad[tidx] = False\n",
    "\n",
    "        return x, y, pad\n"
   ]
  },
  {
   "cell_type": "markdown",
   "id": "d8fdc647",
   "metadata": {
    "id": "d8fdc647"
   },
   "source": [
    "## DSD100 dataset\n",
    "\n",
    "Below described is the folder structure of the DSD100 dataset: \n",
    "\n",
    "- ENST Drums\n",
    "    - Train\n",
    "        - Songdir(songname)\n",
    "            - vocals.wav\n",
    "            - bass.wav\n",
    "            - drums.wav\n",
    "            - other.wav\n",
    "            - accompaniment.wav\n",
    "            - mixture.wav\n",
    "    - Test\n",
    "         - Songdir(songname)\n",
    "            - vocals.wav\n",
    "            - bass.wav\n",
    "            - drums.wav\n",
    "            - other.wav\n",
    "            - accompaniment.wav\n",
    "            - mixture.wav\n",
    "            \n",
    "Note: Accompaniment is the sum of bass, drums, and other.\n",
    "\n",
    "For the purpose of training our models, we use:  \n",
    "\n",
    "__Input__: vocals, bass, drums, and other\n",
    "\n",
    "__Output__: Mixture"
   ]
  },
  {
   "cell_type": "markdown",
   "id": "5e5eee90",
   "metadata": {
    "id": "5e5eee90"
   },
   "source": [
    "\n",
    "\n",
    "We will first define a dataset class and use the `getitem()` function to load items into the dataloader.\n",
    "\n",
    "```\n",
    "#Code from automix/data/dsd100.py\n",
    "\n",
    "class DSD100Dataset(torch.utils.data.Dataset):\n",
    "    def __init__(\n",
    "        self,\n",
    "        root_dir: str,\n",
    "        length: int,\n",
    "        sample_rate: float,\n",
    "        indices: Tuple[int, int],\n",
    "        track_names: List[str] = [\"bass\", \"drums\", \"other\", \"vocals\"],\n",
    "        num_examples_per_epoch: int = 1000,\n",
    "    ) -> None:\n",
    "```\n",
    "\n",
    "\n",
    "Hereafter, we follow similar structure in `getitem()` as in the case of ENSTDrums.\n",
    "- We first pick a mix_filepath on random and then look for non-silent part to load the mix(`y`). \n",
    "- Then, we load stems(`x`) starting with the same start_idx of the prescribed length.  \n",
    "- We peak normalise all the loaded stems and mix and save the empty stem inofrmation in the `pad` variable.\n",
    "- We then return `x`, `y`, and `pad`."
   ]
  },
  {
   "cell_type": "markdown",
   "id": "ad80e1f1",
   "metadata": {
    "id": "ad80e1f1"
   },
   "source": [
    "# MedleyDB Dataset\n",
    "\n",
    "Described below is the folder structure for MedleyDB:\n",
    "\n",
    "- MedleyDB\n",
    "    - songnames\n",
    "        - songname_MIX.wav\n",
    "        - songname_STEMS\n",
    "            - songname_STEMS_{stem_number}.wav\n",
    "        - songname_RAW\n",
    "            - songname_STEMS_{stem_number}_{track_number}.wav\n",
    "\n",
    "- STEMS folder have some of the RAW audio tracks combined into a single audio file.\n",
    "- RAW folder contains all of the audio tracks individually.\n",
    "\n",
    "We define the corresponding dataset class like before.\n",
    "```\n",
    "class MedleyDBDataset(torch.utils.data.Dataset):\n",
    "    def __init__(\n",
    "        self,\n",
    "        root_dirs: List[str],\n",
    "        length: int,\n",
    "        sample_rate: float,\n",
    "        indices: List[int] = [0, 100],\n",
    "        max_num_tracks: int = 16,\n",
    "        num_examples_per_epoch: int = 1000,\n",
    "        buffer_size_gb: float = 3.0,\n",
    "        buffer_reload_rate: int = 200,\n",
    "        normalization: str = \"peak\",\n",
    "    ) -> None:\n",
    "```\n",
    "\n",
    "- `indices` define the train-test split.\n",
    "- `buffer_size_gb` specifies the amount of data loaded onto RAM\n",
    "- `buffer_reload_rate` specifies the rate of loading new data onto the RAM. "
   ]
  },
  {
   "cell_type": "markdown",
   "id": "7c4985b9",
   "metadata": {
    "id": "7c4985b9"
   },
   "source": [
    "In case of large datasets like MedleyDB which have large number of stems in the songs, it could be very time-consuming to always load audio tracks from the disk. However, we could load a small subset of the dataset randomly onto the RAM every few iterations to speed up the process."
   ]
  },
  {
   "cell_type": "markdown",
   "id": "4298572b",
   "metadata": {
    "id": "4298572b"
   },
   "source": [
    "\n",
    "\n",
    "We load `nbytes_loaded` amount of data onto the RAM everytime the `items_since_load` > `buffer_reload_rate`\n",
    "```\n",
    "#code from automix/data/medleydb.py\n",
    "\n",
    "def reload_buffer(self):\n",
    "\n",
    "        self.examples = []  # clear buffer\n",
    "        self.items_since_load = 0  # reset iteration counter\n",
    "        nbytes_loaded = 0  # counter for data in RAM\n",
    "\n",
    "        # different subset in each\n",
    "        random.shuffle(self.mix_dirs)\n",
    "\n",
    "        # load files into RAM\n",
    "        for mix_dir in self.mix_dirs:\n",
    "            mix_id = os.path.basename(mix_dir)\n",
    "            mix_filepath = glob.glob(os.path.join(mix_dir, \"*.wav\"))[0]\n",
    "\n",
    "            # now check the length of the mix\n",
    "            try:\n",
    "                y, sr = torchaudio.load(mix_filepath)\n",
    "            except:\n",
    "                print(f\"Skipping {mix_filepath}\")\n",
    "                continue\n",
    "\n",
    "            mix_num_frames = y.shape[-1]\n",
    "            nbytes = y.element_size() * y.nelement()\n",
    "            nbytes_loaded += nbytes\n",
    "\n",
    "            # now find all the track filepaths\n",
    "            track_filepaths = glob.glob(os.path.join(mix_dir, f\"{mix_id}_RAW\", \"*.wav\"))\n",
    "\n",
    "            if len(track_filepaths) > self.max_num_tracks:\n",
    "                continue\n",
    "\n",
    "            # check length of each track\n",
    "            tracks = []\n",
    "            for tidx, track_filepath in enumerate(track_filepaths):\n",
    "                x, sr = torchaudio.load(track_filepath)\n",
    "                tracks.append(x)\n",
    "\n",
    "                nbytes = x.element_size() * x.nelement()\n",
    "                nbytes_loaded += nbytes\n",
    "\n",
    "                track_num_frames = x.shape[-1]\n",
    "                if track_num_frames < mix_num_frames:\n",
    "                    mix_num_frames = track_num_frames\n",
    "\n",
    "            # store this example\n",
    "            example = {\n",
    "                \"mix_id\": os.path.dirname(mix_filepath).split(os.sep)[-1],\n",
    "                \"mix_filepath\": mix_filepath,\n",
    "                \"mix_audio\": y,\n",
    "                \"num_frames\": mix_num_frames,\n",
    "                \"track_filepaths\": track_filepaths,\n",
    "                \"track_audio\": tracks,\n",
    "            }\n",
    "\n",
    "            self.examples.append(example)\n",
    "\n",
    "            # check the size of loaded data\n",
    "            if nbytes_loaded > self.buffer_size_gb * 1e9:\n",
    "                break\n",
    "```"
   ]
  },
  {
   "cell_type": "code",
   "execution_count": null,
   "id": "IC9W5I9CQlXm",
   "metadata": {
    "id": "IC9W5I9CQlXm"
   },
   "outputs": [],
   "source": [
    "!pip install git+https://github.com/csteinmetz1/automix-toolkit"
   ]
  },
  {
   "cell_type": "code",
   "execution_count": null,
   "id": "6a0d1d8a",
   "metadata": {
    "id": "6a0d1d8a"
   },
   "outputs": [],
   "source": [
    "from automix.data import DSD100Dataset\n",
    "import torch\n",
    "import torchaudio\n",
    "import matplotlib.pyplot as plt\n",
    "import librosa\n",
    "import librosa.display\n",
    "import IPython\n",
    "import numpy as np\n",
    "import os"
   ]
  },
  {
   "cell_type": "markdown",
   "id": "vrPsnIKKQ2QD",
   "metadata": {
    "id": "vrPsnIKKQ2QD"
   },
   "source": [
    "Now we will download a subset of DSD100 and load it using the dataloader.\n"
   ]
  },
  {
   "cell_type": "code",
   "execution_count": null,
   "id": "89c02ac5",
   "metadata": {
    "id": "89c02ac5"
   },
   "outputs": [],
   "source": [
    "#First lets download a subset of DSD100\n",
    "!wget https://huggingface.co/csteinmetz1/automix-toolkit/resolve/main/DSD100subset.zip\n",
    "!unzip -o DSD100subset.zip "
   ]
  },
  {
   "cell_type": "markdown",
   "id": "oCxxTS0yQ9Ps",
   "metadata": {
    "id": "oCxxTS0yQ9Ps"
   },
   "source": [
    "# Load the dataset. \n",
    "We will use the DSD100Dataset class from the automix.data module. \n",
    "We load data at 44.1KHz sample rate. Let's have the train length = 65536 frames\n",
    "We will split the dataset to have the first four examples as train and the rest as test; this is indicated using indices."
   ]
  },
  {
   "cell_type": "code",
   "execution_count": null,
   "id": "07562081",
   "metadata": {
    "id": "07562081"
   },
   "outputs": [],
   "source": [
    "num_frames = 65536\n",
    "sample_rate = 44100\n",
    "\n",
    "train_dataset = DSD100Dataset(\n",
    "    \"./DSD100subset\",\n",
    "    num_frames,\n",
    "    sample_rate,\n",
    "    indices=[0, 4],\n",
    "    num_examples_per_epoch=100,)\n",
    "\n",
    "#Define the dataloader\n",
    "train_dataloader = torch.utils.data.DataLoader(\n",
    "    train_dataset,\n",
    "    batch_size=1,\n",
    "    shuffle=False,\n",
    "    num_workers=1,\n",
    "    persistent_workers=True,\n",
    ")\n",
    "\n",
    "print(train_dataloader)"
   ]
  },
  {
   "cell_type": "markdown",
   "id": "HzZJ4Z9QREMf",
   "metadata": {
    "id": "HzZJ4Z9QREMf"
   },
   "source": [
    "Lop over the dataloader to load examples for batch size of 1. \n",
    "We will see the shape of the loaded data.\n"
   ]
  },
  {
   "cell_type": "code",
   "execution_count": null,
   "id": "b3e47732",
   "metadata": {
    "id": "b3e47732"
   },
   "outputs": [],
   "source": [
    "\n",
    "for i,( stems, mix, pad) in enumerate(train_dataloader):\n",
    "    print(\"Stems shape: \", stems.shape)\n",
    "    print(\"Mix shape: \", mix.shape)\n",
    "    print(\"Pad shape: \", len(pad))\n",
    "    print(\"Pad: \", pad)\n",
    "    break\n",
    "\n"
   ]
  },
  {
   "cell_type": "code",
   "execution_count": null,
   "id": "f3a466ab-51d7-4134-8687-85eb30a158a2",
   "metadata": {},
   "outputs": [],
   "source": []
  },
  {
   "cell_type": "code",
   "execution_count": null,
   "id": "3312f56a-0a7a-4e31-96ac-acfc5ba95102",
   "metadata": {},
   "outputs": [],
   "source": []
  },
  {
   "cell_type": "code",
   "execution_count": null,
   "id": "77b00068-aaca-4953-a072-493e25c3a35c",
   "metadata": {},
   "outputs": [],
   "source": []
  },
  {
   "cell_type": "code",
   "execution_count": null,
   "id": "d0d91c8f-26f6-4a32-b068-7b6784a2ef43",
   "metadata": {},
   "outputs": [],
   "source": []
  },
  {
   "cell_type": "code",
   "execution_count": null,
   "id": "9aae68da-a5a2-463d-bb50-60f7643f48f3",
   "metadata": {},
   "outputs": [],
   "source": []
  },
  {
   "cell_type": "code",
   "execution_count": null,
   "id": "4041104e-b997-4ebe-8820-4493b47222fb",
   "metadata": {},
   "outputs": [],
   "source": []
  },
  {
   "cell_type": "code",
   "execution_count": null,
   "id": "4e0320f5-6e08-485f-9499-5e272bf6022f",
   "metadata": {},
   "outputs": [],
   "source": []
  },
  {
   "cell_type": "code",
   "execution_count": null,
   "id": "03d6b551-a737-4a0f-98bf-a07b7c5c1167",
   "metadata": {},
   "outputs": [],
   "source": []
  },
  {
   "cell_type": "code",
   "execution_count": null,
   "id": "efb62392-becb-414d-bcae-589a376c35b5",
   "metadata": {},
   "outputs": [],
   "source": []
  },
  {
   "cell_type": "code",
   "execution_count": null,
   "id": "045aee6e-d784-437a-bb55-ea20ba58e646",
   "metadata": {},
   "outputs": [],
   "source": []
  },
  {
   "cell_type": "code",
   "execution_count": null,
   "id": "77a15a74-8367-40ba-b773-ff70f7ed67cd",
   "metadata": {},
   "outputs": [],
   "source": []
  },
  {
   "cell_type": "code",
   "execution_count": null,
   "id": "9116b9a6-a1cc-413d-9282-40cd9a8da0c5",
   "metadata": {},
   "outputs": [],
   "source": []
  },
  {
   "cell_type": "code",
   "execution_count": null,
   "id": "f7454ef5-07bf-4a14-ad2c-98fe999d4fd6",
   "metadata": {},
   "outputs": [],
   "source": []
  },
  {
   "cell_type": "code",
   "execution_count": null,
   "id": "0c726fa1-a685-4aee-b333-e4e11e27914b",
   "metadata": {},
   "outputs": [],
   "source": []
  },
  {
   "cell_type": "code",
   "execution_count": null,
   "id": "3253a9f8-6b9c-4806-963f-fb493dc7cd4d",
   "metadata": {},
   "outputs": [],
   "source": []
  }
 ],
 "metadata": {
  "colab": {
   "provenance": []
  },
  "kernelspec": {
   "display_name": "Python 3 (ipykernel)",
   "language": "python",
   "name": "python3"
  },
  "language_info": {
   "codemirror_mode": {
    "name": "ipython",
    "version": 3
   },
   "file_extension": ".py",
   "mimetype": "text/x-python",
   "name": "python",
   "nbconvert_exporter": "python",
   "pygments_lexer": "ipython3",
   "version": "3.9.16"
  },
  "vscode": {
   "interpreter": {
    "hash": "a3fa5f622e0c4f19de725eca262006d4f26f3d54faeda6e10ceb975b2274f74b"
   }
  }
 },
 "nbformat": 4,
 "nbformat_minor": 5
}
